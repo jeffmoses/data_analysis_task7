{
 "cells": [
  {
   "cell_type": "code",
   "execution_count": null,
   "id": "60e680d0",
   "metadata": {},
   "outputs": [],
   "source": [
    "# --- Task 1: Load and Explore the Dataset ---\n",
    "import pandas as pd\n",
    "import matplotlib.pyplot as plt\n",
    "from sklearn.datasets import load_iris\n",
    "\n",
    "# Load the Iris dataset, which is a classic dataset for data analysis.\n",
    "# It contains data on three types of iris flowers.\n",
    "iris = load_iris()\n",
    "df = pd.DataFrame(data=iris.data, columns=iris.feature_names)\n",
    "# Add the species column to the DataFrame\n",
    "df['species'] = pd.Series(iris.target_names)[iris.target]\n",
    "\n",
    "print(\"--- Task 1: Dataset Exploration ---\")\n",
    "\n",
    "# Display the first few rows to inspect the data's structure.\n",
    "print(\"\\nFirst 5 rows of the dataset:\")\n",
    "print(df.head())\n",
    "\n",
    "# Get information about the dataset, including data types and non-null counts.\n",
    "print(\"\\nDataset Information:\")\n",
    "df.info()\n",
    "\n",
    "# Cleaning the dataset:\n",
    "# The Iris dataset is already very clean, with no missing values.\n",
    "# However, this is an example of how you would handle missing data\n",
    "# in a real-world scenario.\n",
    "print(\"\\nChecking for missing values:\")\n",
    "print(df.isnull().sum())\n",
    "\n",
    "# Example of how you would drop rows with missing values:\n",
    "# df_cleaned = df.dropna()\n",
    "\n",
    "# Example of how you would fill missing values with the mean of the column:\n",
    "# df_filled = df.fillna(df.mean(numeric_only=True))\n"
   ]
  }
 ],
 "metadata": {
  "language_info": {
   "name": "python"
  }
 },
 "nbformat": 4,
 "nbformat_minor": 5
}
